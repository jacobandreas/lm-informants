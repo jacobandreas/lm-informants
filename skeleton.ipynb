{
 "cells": [
  {
   "cell_type": "code",
   "execution_count": 1,
   "id": "3d1f1535",
   "metadata": {},
   "outputs": [],
   "source": [
    "from main import read_in_blicks, BOUNDARY, eval_auc\n",
    "import scorers\n",
    "import datasets\n",
    "import informants\n",
    "import learners\n",
    "from util import entropy, kl_bern"
   ]
  },
  {
   "cell_type": "code",
   "execution_count": 2,
   "id": "5973295d",
   "metadata": {},
   "outputs": [],
   "source": [
    "import pandas as pd"
   ]
  },
  {
   "cell_type": "code",
   "execution_count": 3,
   "id": "e1ff6a65",
   "metadata": {},
   "outputs": [],
   "source": [
    "feature_type = 'atr_harmony'\n",
    "SEED=1"
   ]
  },
  {
   "cell_type": "markdown",
   "id": "598974aa",
   "metadata": {},
   "source": [
    "## Load dataset, scorers, and oracle\n"
   ]
  },
  {
   "cell_type": "code",
   "execution_count": 4,
   "id": "f3779b66",
   "metadata": {},
   "outputs": [
    {
     "name": "stdout",
     "output_type": "stream",
     "text": [
      "Loading lexicon from:\tdata/hw/atr_harmony_lexicon.txt\n",
      "Loading lexicon with min_length=2, max_length=5...\n",
      "Reading phoneme features from: data/hw/atr_harmony_features.txt\n",
      "# features:  512\n",
      "feature type:  atr_harmony\n",
      "Reading phoneme features from: data/hw/atr_harmony_features.txt\n",
      "Loading ngram features from: data/hw/atr_harmony_feature_weights.txt\n"
     ]
    }
   ],
   "source": [
    "lexicon_path = f'data/hw/{feature_type}_lexicon.txt'\n",
    "phoneme_feature_path = f'data/hw/{feature_type}_features.txt'\n",
    "ngram_feature_path = f'data/hw/{feature_type}_feature_weights.txt'\n",
    "\n",
    "print(f'Loading lexicon from:\\t{lexicon_path}')\n",
    "dataset = datasets.load_lexicon(lexicon_path, min_length=2, max_length=5)\n",
    "\n",
    "# You'll probably want to change this line to create your own scorer\n",
    "mf_scorer = scorers.MeanFieldScorer(dataset, \n",
    "                                    feature_type=feature_type, \n",
    "                                    phoneme_feature_file=phoneme_feature_path,\n",
    "                                   )\n",
    "hw_scorer = scorers.HWScorer(dataset, \n",
    "                                    feature_type=feature_type, \n",
    "                                    phoneme_feature_file=phoneme_feature_path,\n",
    "                            )\n",
    "\n",
    "# Load oracle\n",
    "informant = informants.HWInformant(dataset, hw_scorer)"
   ]
  },
  {
   "cell_type": "markdown",
   "id": "43e0659f",
   "metadata": {},
   "source": [
    "## Set random seeds"
   ]
  },
  {
   "cell_type": "code",
   "execution_count": 5,
   "id": "89d290b3",
   "metadata": {},
   "outputs": [],
   "source": [
    "import random\n",
    "import numpy as np\n",
    "\n",
    "random.seed(SEED)\n",
    "np.random.seed(SEED)\n",
    "dataset.random.seed(SEED)"
   ]
  },
  {
   "cell_type": "code",
   "execution_count": 6,
   "id": "6babc49e",
   "metadata": {},
   "outputs": [],
   "source": [
    "linear_train_dataset = dataset.data"
   ]
  },
  {
   "cell_type": "markdown",
   "id": "0e567e9a",
   "metadata": {},
   "source": [
    "## Load eval dataset"
   ]
  },
  {
   "cell_type": "code",
   "execution_count": 7,
   "id": "fcc8c779",
   "metadata": {},
   "outputs": [],
   "source": [
    "# Read in eval dataset\n",
    "\n",
    "def load_eval_dataset():\n",
    "\n",
    "    # Change this path if you want to specify a different eval dataset\n",
    "    # eval_dataset_path = f'{feature_type}_test_set.txt'\n",
    "\n",
    "    # Hacky, but the atr_harmony test set is stored at test_set.csv; the eval dataset names need to be standardized\n",
    "    eval_dataset_path = 'test_set.csv'\n",
    "    print(f'Reading eval items from:\\t{eval_dataset_path}')\n",
    "    items = read_in_blicks(eval_dataset_path)\n",
    "\n",
    "\n",
    "    # Get phonemes\n",
    "    phonemes = [[BOUNDARY] + item + [BOUNDARY] for item in items]\n",
    "    # Encode items\n",
    "    encoded_items = [dataset.vocab.encode(phon) for phon in phonemes]\n",
    "    # Get labels with HW oracle\n",
    "    labels = [informant.judge(encod) for encod in encoded_items]\n",
    "    # Featurize items\n",
    "    featurized_items = [mf_scorer._featurize(encod).nonzero()[0] for encod in encoded_items]\n",
    "    # Get num features\n",
    "\n",
    "    # Get dataframe of results\n",
    "    eval_dataset = pd.DataFrame({\n",
    "        'item': items,\n",
    "        'label': labels,\n",
    "        'encoded': encoded_items,\n",
    "        'featurized': featurized_items,\n",
    "    })\n",
    "\n",
    "    return eval_dataset"
   ]
  },
  {
   "cell_type": "code",
   "execution_count": 8,
   "id": "1294d72e",
   "metadata": {},
   "outputs": [
    {
     "name": "stdout",
     "output_type": "stream",
     "text": [
      "Reading eval items from:\ttest_set.csv\n"
     ]
    },
    {
     "data": {
      "text/html": [
       "<div>\n",
       "<style scoped>\n",
       "    .dataframe tbody tr th:only-of-type {\n",
       "        vertical-align: middle;\n",
       "    }\n",
       "\n",
       "    .dataframe tbody tr th {\n",
       "        vertical-align: top;\n",
       "    }\n",
       "\n",
       "    .dataframe thead th {\n",
       "        text-align: right;\n",
       "    }\n",
       "</style>\n",
       "<table border=\"1\" class=\"dataframe\">\n",
       "  <thead>\n",
       "    <tr style=\"text-align: right;\">\n",
       "      <th></th>\n",
       "      <th>item</th>\n",
       "      <th>label</th>\n",
       "      <th>encoded</th>\n",
       "      <th>featurized</th>\n",
       "    </tr>\n",
       "  </thead>\n",
       "  <tbody>\n",
       "    <tr>\n",
       "      <th>0</th>\n",
       "      <td>[ta, qI]</td>\n",
       "      <td>True</td>\n",
       "      <td>(0, 20, 2, 0)</td>\n",
       "      <td>[70, 94, 110, 134, 158, 174, 392, 395, 397, 40...</td>\n",
       "    </tr>\n",
       "    <tr>\n",
       "      <th>1</th>\n",
       "      <td>[qe, qe]</td>\n",
       "      <td>True</td>\n",
       "      <td>(0, 7, 7, 0)</td>\n",
       "      <td>[78, 94, 102, 206, 222, 230, 270, 286, 294, 39...</td>\n",
       "    </tr>\n",
       "    <tr>\n",
       "      <th>2</th>\n",
       "      <td>[qE, pi, qE, qI]</td>\n",
       "      <td>False</td>\n",
       "      <td>(0, 19, 8, 19, 2, 0)</td>\n",
       "      <td>[8, 11, 13, 24, 27, 29, 40, 43, 45, 65, 67, 69...</td>\n",
       "    </tr>\n",
       "    <tr>\n",
       "      <th>3</th>\n",
       "      <td>[kI, ta]</td>\n",
       "      <td>True</td>\n",
       "      <td>(0, 14, 20, 0)</td>\n",
       "      <td>[14, 22, 206, 214, 334, 342, 385, 386, 409, 41...</td>\n",
       "    </tr>\n",
       "    <tr>\n",
       "      <th>4</th>\n",
       "      <td>[ke, qI]</td>\n",
       "      <td>False</td>\n",
       "      <td>(0, 18, 2, 0)</td>\n",
       "      <td>[70, 94, 110, 198, 222, 238, 262, 286, 302, 39...</td>\n",
       "    </tr>\n",
       "    <tr>\n",
       "      <th>...</th>\n",
       "      <td>...</td>\n",
       "      <td>...</td>\n",
       "      <td>...</td>\n",
       "      <td>...</td>\n",
       "    </tr>\n",
       "    <tr>\n",
       "      <th>1005</th>\n",
       "      <td>[kI, qe, ta, qi, qa, ke]</td>\n",
       "      <td>False</td>\n",
       "      <td>(0, 14, 7, 20, 15, 11, 18, 0)</td>\n",
       "      <td>[9, 10, 11, 12, 17, 19, 20, 25, 26, 33, 34, 65...</td>\n",
       "    </tr>\n",
       "    <tr>\n",
       "      <th>1006</th>\n",
       "      <td>[qa, ta, ta, pE]</td>\n",
       "      <td>True</td>\n",
       "      <td>(0, 11, 20, 20, 10, 0)</td>\n",
       "      <td>[73, 74, 75, 77, 78, 81, 82, 83, 85, 94, 110, ...</td>\n",
       "    </tr>\n",
       "    <tr>\n",
       "      <th>1007</th>\n",
       "      <td>[pe, tE, pa]</td>\n",
       "      <td>False</td>\n",
       "      <td>(0, 17, 6, 9, 0)</td>\n",
       "      <td>[73, 74, 78, 86, 89, 90, 105, 106, 201, 202, 2...</td>\n",
       "    </tr>\n",
       "    <tr>\n",
       "      <th>1008</th>\n",
       "      <td>[ka, ti, ke]</td>\n",
       "      <td>True</td>\n",
       "      <td>(0, 5, 12, 18, 0)</td>\n",
       "      <td>[14, 30, 38, 65, 67, 68, 89, 91, 92, 97, 99, 1...</td>\n",
       "    </tr>\n",
       "    <tr>\n",
       "      <th>1009</th>\n",
       "      <td>[pE, qa, pE]</td>\n",
       "      <td>True</td>\n",
       "      <td>(0, 10, 11, 10, 0)</td>\n",
       "      <td>[73, 75, 77, 78, 81, 83, 85, 94, 110, 142, 158...</td>\n",
       "    </tr>\n",
       "  </tbody>\n",
       "</table>\n",
       "<p>1010 rows × 4 columns</p>\n",
       "</div>"
      ],
      "text/plain": [
       "                          item  label                        encoded  \\\n",
       "0                     [ta, qI]   True                  (0, 20, 2, 0)   \n",
       "1                     [qe, qe]   True                   (0, 7, 7, 0)   \n",
       "2             [qE, pi, qE, qI]  False           (0, 19, 8, 19, 2, 0)   \n",
       "3                     [kI, ta]   True                 (0, 14, 20, 0)   \n",
       "4                     [ke, qI]  False                  (0, 18, 2, 0)   \n",
       "...                        ...    ...                            ...   \n",
       "1005  [kI, qe, ta, qi, qa, ke]  False  (0, 14, 7, 20, 15, 11, 18, 0)   \n",
       "1006          [qa, ta, ta, pE]   True         (0, 11, 20, 20, 10, 0)   \n",
       "1007              [pe, tE, pa]  False               (0, 17, 6, 9, 0)   \n",
       "1008              [ka, ti, ke]   True              (0, 5, 12, 18, 0)   \n",
       "1009              [pE, qa, pE]   True             (0, 10, 11, 10, 0)   \n",
       "\n",
       "                                             featurized  \n",
       "0     [70, 94, 110, 134, 158, 174, 392, 395, 397, 40...  \n",
       "1     [78, 94, 102, 206, 222, 230, 270, 286, 294, 39...  \n",
       "2     [8, 11, 13, 24, 27, 29, 40, 43, 45, 65, 67, 69...  \n",
       "3     [14, 22, 206, 214, 334, 342, 385, 386, 409, 41...  \n",
       "4     [70, 94, 110, 198, 222, 238, 262, 286, 302, 39...  \n",
       "...                                                 ...  \n",
       "1005  [9, 10, 11, 12, 17, 19, 20, 25, 26, 33, 34, 65...  \n",
       "1006  [73, 74, 75, 77, 78, 81, 82, 83, 85, 94, 110, ...  \n",
       "1007  [73, 74, 78, 86, 89, 90, 105, 106, 201, 202, 2...  \n",
       "1008  [14, 30, 38, 65, 67, 68, 89, 91, 92, 97, 99, 1...  \n",
       "1009  [73, 75, 77, 78, 81, 83, 85, 94, 110, 142, 158...  \n",
       "\n",
       "[1010 rows x 4 columns]"
      ]
     },
     "metadata": {},
     "output_type": "display_data"
    }
   ],
   "source": [
    "eval_dataset = load_eval_dataset()\n",
    "display(eval_dataset)"
   ]
  },
  {
   "cell_type": "markdown",
   "id": "ed119607",
   "metadata": {},
   "source": [
    "## Initialize learner"
   ]
  },
  {
   "cell_type": "code",
   "execution_count": 15,
   "id": "3f3bc3a9",
   "metadata": {},
   "outputs": [
    {
     "name": "stdout",
     "output_type": "stream",
     "text": [
      "Reading phoneme features from: data/hw/atr_harmony_features.txt\n",
      "# features:  512\n"
     ]
    }
   ],
   "source": [
    "# You may also have to create a slightly modified learner class to wrap around your linear model scorer\n",
    "learner = learners.VBLearner(dataset, strategy='unif', \n",
    "                             linear_train_dataset=linear_train_dataset,\n",
    "                            index_of_next_item=0,\n",
    "                            seed=SEED)\n",
    "learner.initialize(n_hyps=1, \n",
    "                   log_log_alpha_ratio=0.5, \n",
    "                   prior_prob=0.03125,\n",
    "                   feature_type=feature_type, \n",
    "                   tolerance=0.001/512,\n",
    "                   warm_start=False,\n",
    "                   max_updates_observe=None,\n",
    "                   max_updates_propose=None,\n",
    "                  )"
   ]
  },
  {
   "cell_type": "markdown",
   "id": "6f2654d0",
   "metadata": {},
   "source": [
    "## Main loop"
   ]
  },
  {
   "cell_type": "code",
   "execution_count": 17,
   "id": "92d72aab",
   "metadata": {},
   "outputs": [],
   "source": [
    "def get_auc(learner, eval_dataset):\n",
    "    # Learner.cost() is used to get predictions for the test set\n",
    "    costs = [learner.cost(encod) for encod in eval_dataset['encoded'].values]\n",
    "    auc = eval_auc(costs, eval_dataset['label'].values)\n",
    "    return auc"
   ]
  },
  {
   "cell_type": "code",
   "execution_count": 11,
   "id": "5802937d",
   "metadata": {
    "scrolled": true
   },
   "outputs": [
    {
     "name": "stderr",
     "output_type": "stream",
     "text": [
      "\r",
      "  0%|                                                                                         | 0/10 [00:00<?, ?it/s]"
     ]
    },
    {
     "name": "stdout",
     "output_type": "stream",
     "text": [
      "setting num_edits = 0 because there are no train observations\n",
      "num edit candidates: 0\n",
      "# candidates: 100\n",
      "sorted candidates (candidate, score):\n",
      "0 ('$', 'ti', 'te', 'pa', '$')\n",
      "0 ('$', 'ti', 'tE', 'ki', '$')\n",
      "0 ('$', 'pe', 'qI', '$')\n",
      "0 ('$', 'pi', 'kI', '$')\n",
      "0 ('$', 'qe', 'qE', '$')\n",
      "\n",
      "candidate: ('$', 'ti', 'te', 'pa', '$')\n",
      "kl between prior and posterior: 1.0447109964051946\n",
      "info gain: 4.585\n",
      "auc: 0.7454572950381799\n",
      "================================\n",
      "setting num_edits = 0 because there are no train observations\n",
      "num edit candidates: 0\n",
      "# candidates: 100\n",
      "sorted candidates (candidate, score):\n",
      "0 ('$', 'tE', 'qe', 'qE', 'qE', '$')\n",
      "0 ('$', 'pi', 'pe', 'pi', 'ti', '$')\n",
      "0 ('$', 'qi', 'pa', 'pa', '$')\n",
      "0 ('$', 'pe', 'tI', '$')\n",
      "0 ('$', 'pI', 'pi', '$')\n"
     ]
    },
    {
     "name": "stderr",
     "output_type": "stream",
     "text": [
      " 50%|████████████████████████████████████████▌                                        | 5/10 [00:05<00:04,  1.21it/s]"
     ]
    },
    {
     "name": "stdout",
     "output_type": "stream",
     "text": [
      "\n",
      "candidate: ('$', 'tE', 'qe', 'qE', 'qE', '$')\n",
      "kl between prior and posterior: 8.379477283787523\n",
      "info gain: -16.176\n",
      "auc: 0.7697341545423122\n",
      "================================\n",
      "setting num_edits = 0 because there are no train observations\n",
      "num edit candidates: 0\n",
      "# candidates: 100\n",
      "sorted candidates (candidate, score):\n",
      "0 ('$', 'pI', 'qE', 'qI', '$')\n",
      "0 ('$', 'qi', 'pE', '$')\n",
      "0 ('$', 'ta', 'pa', '$')\n",
      "0 ('$', 'te', 'qi', 'ke', '$')\n",
      "0 ('$', 'qa', 'qE', '$')\n",
      "\n",
      "candidate: ('$', 'pI', 'qE', 'qI', '$')\n",
      "kl between prior and posterior: 0.006263661364541822\n",
      "info gain: 0.387\n",
      "auc: 0.7692588693712095\n",
      "================================\n",
      "setting num_edits = 0 because there are no train observations\n",
      "num edit candidates: 0\n",
      "# candidates: 100\n",
      "sorted candidates (candidate, score):\n",
      "0 ('$', 'kI', 'qa', 'ke', 'qI', '$')\n",
      "0 ('$', 'ki', 'ke', 'qI', '$')\n",
      "0 ('$', 'tI', 'pI', 'ta', 'ta', '$')\n",
      "0 ('$', 'pi', 'kE', '$')\n",
      "0 ('$', 'te', 'qi', '$')\n",
      "\n",
      "candidate: ('$', 'kI', 'qa', 'ke', 'qI', '$')\n",
      "kl between prior and posterior: 0.0555441275568859\n",
      "info gain: -0.081\n",
      "auc: 0.7645649373094932\n",
      "================================\n",
      "setting num_edits = 0 because there are no train observations\n",
      "num edit candidates: 0\n",
      "# candidates: 100\n",
      "sorted candidates (candidate, score):\n",
      "0 ('$', 'tE', 'pa', 'qe', 'ta', '$')\n",
      "0 ('$', 'qI', 'ka', '$')\n",
      "0 ('$', 'qE', 'ka', '$')\n",
      "0 ('$', 'qi', 'te', '$')\n",
      "0 ('$', 'qi', 'pI', 'kE', 'ti', '$')\n",
      "\n",
      "candidate: ('$', 'tE', 'pa', 'qe', 'ta', '$')\n",
      "kl between prior and posterior: 0.11246887945602597\n",
      "info gain: 1.658\n",
      "auc: 0.7738231782044432\n",
      "================================\n",
      "setting num_edits = 0 because there are no train observations\n",
      "num edit candidates: 0\n",
      "# candidates: 100\n",
      "sorted candidates (candidate, score):\n",
      "0 ('$', 'pI', 'te', '$')\n",
      "0 ('$', 'ti', 'tE', '$')\n",
      "0 ('$', 'tE', 'tE', 'qi', 'tI', '$')\n",
      "0 ('$', 'kE', 'tI', '$')\n",
      "0 ('$', 'ta', 'kI', 'qi', 'kI', '$')\n"
     ]
    },
    {
     "name": "stderr",
     "output_type": "stream",
     "text": [
      "\r",
      " 70%|████████████████████████████████████████████████████████▋                        | 7/10 [00:05<00:01,  1.89it/s]"
     ]
    },
    {
     "name": "stdout",
     "output_type": "stream",
     "text": [
      "\n",
      "candidate: ('$', 'pI', 'te', '$')\n",
      "kl between prior and posterior: 3.899099440619621\n",
      "info gain: 5.355\n",
      "auc: 0.8515853313641077\n",
      "================================\n",
      "setting num_edits = 0 because there are no train observations\n",
      "num edit candidates: 0\n",
      "# candidates: 100\n",
      "sorted candidates (candidate, score):\n",
      "0 ('$', 'pa', 'pa', 'ti', 'ti', '$')\n",
      "0 ('$', 'te', 'pa', 'ka', '$')\n",
      "0 ('$', 'ke', 'tE', 'ki', 'ta', '$')\n",
      "0 ('$', 'pI', 'pE', 'pa', 'tI', '$')\n",
      "0 ('$', 'kE', 'tE', 'qE', 'qi', '$')\n",
      "\n",
      "candidate: ('$', 'pa', 'pa', 'ti', 'ti', '$')\n",
      "kl between prior and posterior: 0.18410010439173413\n",
      "info gain: 2.064\n",
      "auc: 0.8490360745372844\n",
      "================================\n",
      "setting num_edits = 0 because there are no train observations\n",
      "num edit candidates: 0\n",
      "# candidates: 100\n",
      "sorted candidates (candidate, score):\n",
      "0 ('$', 'ki', 'qa', 'te', 'pa', '$')\n",
      "0 ('$', 'qa', 'te', 'pe', 'tI', '$')\n",
      "0 ('$', 'pI', 'pE', 'tE', 'ke', '$')\n",
      "0 ('$', 'pi', 'qi', 'tI', '$')\n",
      "0 ('$', 'pI', 'pI', 'pE', 'qa', '$')\n"
     ]
    },
    {
     "name": "stderr",
     "output_type": "stream",
     "text": [
      "100%|████████████████████████████████████████████████████████████████████████████████| 10/10 [00:07<00:00,  1.38it/s]"
     ]
    },
    {
     "name": "stdout",
     "output_type": "stream",
     "text": [
      "\n",
      "candidate: ('$', 'ki', 'qa', 'te', 'pa', '$')\n",
      "kl between prior and posterior: 7.765571306074014\n",
      "info gain: 15.081\n",
      "auc: 0.8191127486409201\n",
      "================================\n",
      "setting num_edits = 0 because there are no train observations\n",
      "num edit candidates: 0\n",
      "# candidates: 100\n",
      "sorted candidates (candidate, score):\n",
      "0 ('$', 'pe', 'qa', '$')\n",
      "0 ('$', 'qi', 'ki', 'kE', '$')\n",
      "0 ('$', 'ti', 'ti', '$')\n",
      "0 ('$', 'ti', 'kE', 'qi', '$')\n",
      "0 ('$', 'qE', 'qE', 'tI', 'pI', '$')\n",
      "\n",
      "candidate: ('$', 'pe', 'qa', '$')\n",
      "kl between prior and posterior: 1.614952529959699e-06\n",
      "info gain: 0.002\n",
      "auc: 0.8191206045941615\n",
      "================================\n",
      "setting num_edits = 0 because there are no train observations\n",
      "num edit candidates: 0\n",
      "# candidates: 99\n",
      "sorted candidates (candidate, score):\n",
      "0 ('$', 'qe', 'qi', '$')\n",
      "0 ('$', 'kI', 'ki', '$')\n",
      "0 ('$', 'qe', 'qi', 'qE', '$')\n",
      "0 ('$', 'te', 'ki', 'qI', 'kI', '$')\n",
      "0 ('$', 'ta', 'qa', 'pa', 'ki', '$')\n",
      "\n",
      "candidate: ('$', 'qe', 'qi', '$')\n",
      "kl between prior and posterior: 0.5114086878375312\n",
      "info gain: 1.496\n",
      "auc: 0.829565094428558\n",
      "================================\n"
     ]
    },
    {
     "name": "stderr",
     "output_type": "stream",
     "text": [
      "\n"
     ]
    }
   ],
   "source": [
    "from tqdm import tqdm\n",
    "\n",
    "num_samples = 10\n",
    "\n",
    "num_candidates = 100\n",
    "\n",
    "aucs=[]\n",
    "\n",
    "for i in tqdm(range(num_samples)):\n",
    "    \n",
    "    # Propose candidate with strategy (defaults to 'unif' above)\n",
    "    cand = learner.propose(num_candidates, \n",
    "                           forbidden_data=[], \n",
    "                           length_norm=True, \n",
    "                           train_expect_type=None,\n",
    "                           informant=informant,\n",
    "                          )\n",
    "    # Get judgment for candidate\n",
    "    judgment = informant.judge(cand)\n",
    "    \n",
    "    orig_probs = learner.hypotheses[0].probs\n",
    "    entropy_before = entropy(orig_probs)\n",
    "    \n",
    "    # Learn from the candidate (calls update())\n",
    "    learner.observe(cand, judgment)\n",
    "    \n",
    "    # Compute metrics evaluating learning\n",
    "    new_probs = learner.hypotheses[0].probs\n",
    "    entropy_after = entropy(new_probs)\n",
    "    info_gain = entropy_before - entropy_after\n",
    "    kl = kl_bern(new_probs, orig_probs).sum()\n",
    "    str_candidate = dataset.vocab.decode(cand)\n",
    "    \n",
    "    auc = get_auc(learner, eval_dataset)\n",
    "    aucs.append(auc)\n",
    "    \n",
    "    # Print\n",
    "    print(\"\")\n",
    "    print(f\"candidate: {str_candidate}\")\n",
    "    print(f\"kl between prior and posterior: {kl}\")\n",
    "    print(f\"info gain: {round(info_gain, 3)}\")\n",
    "    print(f\"auc: {auc}\")\n",
    "    \n",
    "    print(\"================================\")"
   ]
  },
  {
   "cell_type": "code",
   "execution_count": 12,
   "id": "ebd43142",
   "metadata": {},
   "outputs": [
    {
     "data": {
      "text/plain": [
       "Text(0, 0.5, 'auc')"
      ]
     },
     "execution_count": 12,
     "metadata": {},
     "output_type": "execute_result"
    },
    {
     "data": {
      "image/png": "[encoded data removed]",
      "text/plain": [
       "<Figure size 640x480 with 1 Axes>"
      ]
     },
     "metadata": {},
     "output_type": "display_data"
    }
   ],
   "source": [
    "# Plot auc\n",
    "import matplotlib.pyplot as plt\n",
    "plt.plot(range(num_samples), aucs)\n",
    "plt.xlabel('step')\n",
    "plt.ylabel('auc')"
   ]
  }
 ],
 "metadata": {
  "kernelspec": {
   "display_name": "Python 3 (ipykernel)",
   "language": "python",
   "name": "python3"
  },
  "language_info": {
   "codemirror_mode": {
    "name": "ipython",
    "version": 3
   },
   "file_extension": ".py",
   "mimetype": "text/x-python",
   "name": "python",
   "nbconvert_exporter": "python",
   "pygments_lexer": "ipython3",
   "version": "3.9.13"
  }
 },
 "nbformat": 4,
 "nbformat_minor": 5
}
