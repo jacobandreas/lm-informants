{
 "cells": [
  {
   "cell_type": "code",
   "execution_count": 1,
   "id": "3d1f1535",
   "metadata": {},
   "outputs": [],
   "source": [
    "from main import read_in_blicks, BOUNDARY\n",
    "import scorers\n",
    "import datasets\n",
    "import informants"
   ]
  },
  {
   "cell_type": "code",
   "execution_count": 2,
   "id": "5973295d",
   "metadata": {},
   "outputs": [],
   "source": [
    "import pandas as pd"
   ]
  },
  {
   "cell_type": "code",
   "execution_count": 3,
   "id": "e1ff6a65",
   "metadata": {},
   "outputs": [],
   "source": [
    "feature_type = 'atr_four'"
   ]
  },
  {
   "cell_type": "markdown",
   "id": "598974aa",
   "metadata": {},
   "source": [
    "## Load dataset, scorers, and oracle\n"
   ]
  },
  {
   "cell_type": "code",
   "execution_count": 12,
   "id": "f3779b66",
   "metadata": {},
   "outputs": [
    {
     "name": "stdout",
     "output_type": "stream",
     "text": [
      "Loading lexicon from:\tdata/hw/atr_four_lexicon.txt\n",
      "Loading lexicon with min_length=2, max_length=5...\n",
      "Reading phoneme features from: data/hw/atr_four_features.txt\n",
      "# features:  2744\n",
      "feature type:  atr_four\n",
      "Reading phoneme features from: data/hw/atr_four_features.txt\n",
      "Loading ngram features from: data/hw/atr_four_feature_weights.txt\n"
     ]
    }
   ],
   "source": [
    "# Change these paths if you want to specify a different set of features\n",
    "lexicon_path = f'data/hw/{feature_type}_lexicon.txt'\n",
    "phoneme_feature_path = f'data/hw/{feature_type}_features.txt'\n",
    "ngram_feature_path = f'data/hw/{feature_type}_feature_weights.txt'\n",
    "\n",
    "print(f'Loading lexicon from:\\t{lexicon_path}')\n",
    "dataset = datasets.load_lexicon(lexicon_path, min_length=2, max_length=5)\n",
    "\n",
    "mf_scorer = scorers.MeanFieldScorer(dataset, \n",
    "                                    feature_type=feature_type, \n",
    "                                    phoneme_feature_file=phoneme_feature_path,\n",
    "                                   )\n",
    "hw_scorer = scorers.HWScorer(dataset, \n",
    "                                    feature_type=feature_type, \n",
    "                                    phoneme_feature_file=phoneme_feature_path,\n",
    "                            )\n",
    "\n",
    "# Load oracle\n",
    "informant = informants.HWInformant(dataset, hw_scorer)"
   ]
  },
  {
   "cell_type": "markdown",
   "id": "9fbca3e0",
   "metadata": {},
   "source": [
    "## Getting mean features by labels across full eval dataset"
   ]
  },
  {
   "cell_type": "code",
   "execution_count": 17,
   "id": "5afe8655",
   "metadata": {},
   "outputs": [
    {
     "name": "stdout",
     "output_type": "stream",
     "text": [
      "Reading eval items from:\tatr_four_test_set.txt\n"
     ]
    }
   ],
   "source": [
    "# Read in items to featurize\n",
    "# Change this path if you want to specify a different eval dataset\n",
    "eval_dataset_path = f'{feature_type}_test_set.txt'\n",
    "print(f'Reading eval items from:\\t{eval_dataset_path}')\n",
    "items = read_in_blicks(eval_dataset_path)"
   ]
  },
  {
   "cell_type": "code",
   "execution_count": 18,
   "id": "77abb286",
   "metadata": {},
   "outputs": [],
   "source": [
    "# Get phonemes\n",
    "phonemes = [[BOUNDARY] + item + [BOUNDARY] for item in items]\n",
    "# Encode items\n",
    "encoded_items = [dataset.vocab.encode(phon) for phon in phonemes]\n",
    "# Get labels with HW oracle\n",
    "labels = [informant.judge(encod) for encod in encoded_items]\n",
    "# Featurize items\n",
    "featurized_items = [mf_scorer._featurize(encod).nonzero()[0] for encod in encoded_items]\n",
    "# Get num features\n",
    "num_features = [len(f) for f in featurized_items]\n",
    "\n",
    "# Get dataframe of results\n",
    "eval_dataset = pd.DataFrame({\n",
    "    'item': items,\n",
    "    'label': labels,\n",
    "    'encoded': encoded_items,\n",
    "    'featurized': featurized_items,\n",
    "    'num_features': num_features,\n",
    "})"
   ]
  },
  {
   "cell_type": "code",
   "execution_count": 19,
   "id": "f8e4ff81",
   "metadata": {},
   "outputs": [
    {
     "data": {
      "text/html": [
       "<div>\n",
       "<style scoped>\n",
       "    .dataframe tbody tr th:only-of-type {\n",
       "        vertical-align: middle;\n",
       "    }\n",
       "\n",
       "    .dataframe tbody tr th {\n",
       "        vertical-align: top;\n",
       "    }\n",
       "\n",
       "    .dataframe thead th {\n",
       "        text-align: right;\n",
       "    }\n",
       "</style>\n",
       "<table border=\"1\" class=\"dataframe\">\n",
       "  <thead>\n",
       "    <tr style=\"text-align: right;\">\n",
       "      <th></th>\n",
       "      <th>item</th>\n",
       "      <th>label</th>\n",
       "      <th>encoded</th>\n",
       "      <th>featurized</th>\n",
       "      <th>num_features</th>\n",
       "    </tr>\n",
       "  </thead>\n",
       "  <tbody>\n",
       "    <tr>\n",
       "      <th>0</th>\n",
       "      <td>[g, A, I, i]</td>\n",
       "      <td>True</td>\n",
       "      <td>(0, 1, 3, 9, 7, 0)</td>\n",
       "      <td>[222, 250, 278, 292, 309, 311, 313, 314, 317, ...</td>\n",
       "      <td>114</td>\n",
       "    </tr>\n",
       "    <tr>\n",
       "      <th>1</th>\n",
       "      <td>[H, A, A, H, A, f]</td>\n",
       "      <td>True</td>\n",
       "      <td>(0, 5, 3, 3, 5, 3, 8, 0)</td>\n",
       "      <td>[308, 311, 313, 315, 316, 317, 319, 700, 703, ...</td>\n",
       "      <td>66</td>\n",
       "    </tr>\n",
       "    <tr>\n",
       "      <th>2</th>\n",
       "      <td>[F, f, F, f]</td>\n",
       "      <td>True</td>\n",
       "      <td>(0, 6, 8, 6, 8, 0)</td>\n",
       "      <td>[0, 3, 5, 7, 9, 10, 11, 12, 42, 45, 47, 49, 51...</td>\n",
       "      <td>379</td>\n",
       "    </tr>\n",
       "    <tr>\n",
       "      <th>3</th>\n",
       "      <td>[A, f, A, f]</td>\n",
       "      <td>True</td>\n",
       "      <td>(0, 3, 8, 3, 8, 0)</td>\n",
       "      <td>[112, 115, 117, 119, 121, 123, 700, 703, 705, ...</td>\n",
       "      <td>54</td>\n",
       "    </tr>\n",
       "    <tr>\n",
       "      <th>4</th>\n",
       "      <td>[A, F, A, i, A]</td>\n",
       "      <td>True</td>\n",
       "      <td>(0, 3, 6, 3, 7, 3, 0)</td>\n",
       "      <td>[113, 115, 117, 118, 121, 123, 320, 701, 703, ...</td>\n",
       "      <td>57</td>\n",
       "    </tr>\n",
       "    <tr>\n",
       "      <th>...</th>\n",
       "      <td>...</td>\n",
       "      <td>...</td>\n",
       "      <td>...</td>\n",
       "      <td>...</td>\n",
       "      <td>...</td>\n",
       "    </tr>\n",
       "    <tr>\n",
       "      <th>1779</th>\n",
       "      <td>[A, A, A, g, f]</td>\n",
       "      <td>False</td>\n",
       "      <td>(0, 3, 3, 3, 1, 8, 0)</td>\n",
       "      <td>[208, 250, 278, 306, 334, 362, 404, 446, 474, ...</td>\n",
       "      <td>80</td>\n",
       "    </tr>\n",
       "    <tr>\n",
       "      <th>1780</th>\n",
       "      <td>[G, g, H, h]</td>\n",
       "      <td>False</td>\n",
       "      <td>(0, 2, 1, 5, 4, 0)</td>\n",
       "      <td>[211, 213, 214, 217, 219, 220, 221, 222, 225, ...</td>\n",
       "      <td>429</td>\n",
       "    </tr>\n",
       "    <tr>\n",
       "      <th>1781</th>\n",
       "      <td>[i, G, i, A]</td>\n",
       "      <td>False</td>\n",
       "      <td>(0, 7, 2, 7, 3, 0)</td>\n",
       "      <td>[211, 213, 215, 216, 218, 219, 221, 225, 227, ...</td>\n",
       "      <td>294</td>\n",
       "    </tr>\n",
       "    <tr>\n",
       "      <th>1782</th>\n",
       "      <td>[A, F, h, H, F, G]</td>\n",
       "      <td>False</td>\n",
       "      <td>(0, 3, 6, 4, 5, 6, 2, 0)</td>\n",
       "      <td>[15, 17, 18, 21, 23, 24, 26, 40, 43, 45, 46, 4...</td>\n",
       "      <td>565</td>\n",
       "    </tr>\n",
       "    <tr>\n",
       "      <th>1783</th>\n",
       "      <td>[F, h, G]</td>\n",
       "      <td>False</td>\n",
       "      <td>(0, 6, 4, 2, 0)</td>\n",
       "      <td>[15, 16, 19, 21, 23, 24, 43, 44, 47, 49, 51, 5...</td>\n",
       "      <td>288</td>\n",
       "    </tr>\n",
       "  </tbody>\n",
       "</table>\n",
       "<p>1784 rows × 5 columns</p>\n",
       "</div>"
      ],
      "text/plain": [
       "                    item  label                   encoded  \\\n",
       "0           [g, A, I, i]   True        (0, 1, 3, 9, 7, 0)   \n",
       "1     [H, A, A, H, A, f]   True  (0, 5, 3, 3, 5, 3, 8, 0)   \n",
       "2           [F, f, F, f]   True        (0, 6, 8, 6, 8, 0)   \n",
       "3           [A, f, A, f]   True        (0, 3, 8, 3, 8, 0)   \n",
       "4        [A, F, A, i, A]   True     (0, 3, 6, 3, 7, 3, 0)   \n",
       "...                  ...    ...                       ...   \n",
       "1779     [A, A, A, g, f]  False     (0, 3, 3, 3, 1, 8, 0)   \n",
       "1780        [G, g, H, h]  False        (0, 2, 1, 5, 4, 0)   \n",
       "1781        [i, G, i, A]  False        (0, 7, 2, 7, 3, 0)   \n",
       "1782  [A, F, h, H, F, G]  False  (0, 3, 6, 4, 5, 6, 2, 0)   \n",
       "1783           [F, h, G]  False           (0, 6, 4, 2, 0)   \n",
       "\n",
       "                                             featurized  num_features  \n",
       "0     [222, 250, 278, 292, 309, 311, 313, 314, 317, ...           114  \n",
       "1     [308, 311, 313, 315, 316, 317, 319, 700, 703, ...            66  \n",
       "2     [0, 3, 5, 7, 9, 10, 11, 12, 42, 45, 47, 49, 51...           379  \n",
       "3     [112, 115, 117, 119, 121, 123, 700, 703, 705, ...            54  \n",
       "4     [113, 115, 117, 118, 121, 123, 320, 701, 703, ...            57  \n",
       "...                                                 ...           ...  \n",
       "1779  [208, 250, 278, 306, 334, 362, 404, 446, 474, ...            80  \n",
       "1780  [211, 213, 214, 217, 219, 220, 221, 222, 225, ...           429  \n",
       "1781  [211, 213, 215, 216, 218, 219, 221, 225, 227, ...           294  \n",
       "1782  [15, 17, 18, 21, 23, 24, 26, 40, 43, 45, 46, 4...           565  \n",
       "1783  [15, 16, 19, 21, 23, 24, 43, 44, 47, 49, 51, 5...           288  \n",
       "\n",
       "[1784 rows x 5 columns]"
      ]
     },
     "metadata": {},
     "output_type": "display_data"
    }
   ],
   "source": [
    "display(eval_dataset)"
   ]
  },
  {
   "cell_type": "code",
   "execution_count": 20,
   "id": "f22944da",
   "metadata": {},
   "outputs": [
    {
     "name": "stdout",
     "output_type": "stream",
     "text": [
      "Mean num features by label:\n",
      "True:\t117.55381165919283\n",
      "False:\t372.87668161434976\n"
     ]
    }
   ],
   "source": [
    "print('Mean num features by label:')\n",
    "for label in [True, False]:\n",
    "    temp = eval_dataset[eval_dataset['label']==label]\n",
    "    mean_num_features = temp['num_features'].mean()\n",
    "    print(f'{label}:\\t{mean_num_features}')"
   ]
  },
  {
   "cell_type": "markdown",
   "id": "9d303600",
   "metadata": {},
   "source": [
    "## Getting num features in individual sequence"
   ]
  },
  {
   "cell_type": "code",
   "execution_count": 21,
   "id": "f3ccd025",
   "metadata": {},
   "outputs": [],
   "source": [
    "def get_num_features_in_seq(seq, scorer, dataset):\n",
    "    item = seq.strip().split(' ')\n",
    "    phonemes = [BOUNDARY] + item + [BOUNDARY]\n",
    "    encoded = dataset.vocab.encode(phonemes)\n",
    "    features = mf_scorer._featurize(encoded).nonzero()[0]\n",
    "    return len(features)"
   ]
  },
  {
   "cell_type": "code",
   "execution_count": 22,
   "id": "29f0f678",
   "metadata": {},
   "outputs": [
    {
     "data": {
      "text/plain": [
       "114"
      ]
     },
     "execution_count": 22,
     "metadata": {},
     "output_type": "execute_result"
    }
   ],
   "source": [
    "get_num_features_in_seq('g A I i', mf_scorer, dataset)"
   ]
  }
 ],
 "metadata": {
  "kernelspec": {
   "display_name": "Python 3 (ipykernel)",
   "language": "python",
   "name": "python3"
  },
  "language_info": {
   "codemirror_mode": {
    "name": "ipython",
    "version": 3
   },
   "file_extension": ".py",
   "mimetype": "text/x-python",
   "name": "python",
   "nbconvert_exporter": "python",
   "pygments_lexer": "ipython3",
   "version": "3.9.13"
  }
 },
 "nbformat": 4,
 "nbformat_minor": 5
}
