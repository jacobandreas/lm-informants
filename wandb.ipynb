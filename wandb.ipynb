{
 "cells": [
  {
   "cell_type": "code",
   "execution_count": 2,
   "id": "93865d4f",
   "metadata": {},
   "outputs": [
    {
     "name": "stderr",
     "output_type": "stream",
     "text": [
      "\u001b[34m\u001b[1mwandb\u001b[0m: Currently logged in as: \u001b[33malexisjihyeross\u001b[0m. Use \u001b[1m`wandb login --relogin`\u001b[0m to force relogin\n"
     ]
    },
    {
     "data": {
      "text/plain": [
       "True"
      ]
     },
     "execution_count": 2,
     "metadata": {},
     "output_type": "execute_result"
    }
   ],
   "source": [
    "import wandb\n",
    "wandb.login()"
   ]
  },
  {
   "cell_type": "code",
   "execution_count": 3,
   "id": "41b833c2",
   "metadata": {},
   "outputs": [],
   "source": [
    "import pandas as pd \n",
    "import wandb\n",
    "import numpy as np\n",
    "\n",
    "api = wandb.Api(timeout=50)\n",
    "entity, project = \"lm-informants\", \"0704_english\"  # set to your entity and project \n",
    "runs = api.runs(entity + \"/\" + project) "
   ]
  },
  {
   "cell_type": "code",
   "execution_count": 6,
   "id": "f1dc8173",
   "metadata": {},
   "outputs": [],
   "source": [
    "df = pd.DataFrame()"
   ]
  },
  {
   "cell_type": "code",
   "execution_count": null,
   "id": "1332d3fe",
   "metadata": {
    "scrolled": true
   },
   "outputs": [
    {
     "name": "stderr",
     "output_type": "stream",
     "text": [
      "  9%|█████████▉                                                                                                     | 6/67 [00:06<01:07,  1.10s/it]"
     ]
    }
   ],
   "source": [
    "from tqdm import tqdm\n",
    "\n",
    "summary_list, config_list, name_list = [], [], []\n",
    "mega_df = pd.DataFrame()\n",
    "\n",
    "all_data = []\n",
    "\n",
    "for run in tqdm(runs): \n",
    "    \n",
    "    # add all the keys that are logged that you want to download\n",
    "    keys = [\n",
    "        \"step\",\n",
    "        \"auc\",\n",
    "        'strategy_used_is_train',\n",
    "        ]\n",
    "                \n",
    "    df = pd.DataFrame()\n",
    "    \n",
    "    history = run.scan_history()\n",
    "    \n",
    "    history_df = pd.DataFrame(history)\n",
    "                \n",
    "    # filter ones that were killed\n",
    "    if run.state != \"finished\":\n",
    "        print(\"filtering run: \", run.path)\n",
    "        continue\n",
    "        \n",
    "    # get the experiment config\n",
    "    config = {k: v for k,v in run.config.items()\n",
    "         if not k.startswith('_')}\n",
    "    \n",
    "    exp = {}\n",
    "    \n",
    "    # if key doesn't exist, set to nan (though this shouldn't happen after filtering empty runs)\n",
    "    exp.update({f\"{col}\": history_df[~history_df[col].isnull()][col].values if col in history_df.columns else np.nan for col in keys})\n",
    "\n",
    "    num_steps = len(exp[keys[0]])\n",
    "    for k in keys:\n",
    "        assert len(exp[k]) == num_steps\n",
    "        \n",
    "    # convert dict of lists to list of dicts\n",
    "    results = [dict(zip(exp,t)) for t in zip(*exp.values())]\n",
    "    \n",
    "    for r in results:\n",
    "        r.update({f\"config/{key}\": val for key, val in config.items()})\n",
    "        r.update({f\"strategy\": run.name})\n",
    "        r.update({f\"wandb_id\": run.path})\n",
    "        \n",
    "    all_data.extend(results)\n",
    "    \n",
    "    \n",
    "# get status\n",
    "    \n",
    "mega_df = pd.DataFrame(all_data)\n"
   ]
  },
  {
   "cell_type": "code",
   "execution_count": null,
   "id": "89da5d36",
   "metadata": {},
   "outputs": [],
   "source": [
    "display(mega_df)"
   ]
  },
  {
   "cell_type": "code",
   "execution_count": 10,
   "id": "a992b160",
   "metadata": {},
   "outputs": [],
   "source": [
    "out_path = './runs.csv'\n",
    "mega_df.to_csv(out_path)"
   ]
  },
  {
   "cell_type": "code",
   "execution_count": null,
   "id": "8b4e1030",
   "metadata": {},
   "outputs": [],
   "source": []
  }
 ],
 "metadata": {
  "kernelspec": {
   "display_name": "Python 3 (ipykernel)",
   "language": "python",
   "name": "python3"
  },
  "language_info": {
   "codemirror_mode": {
    "name": "ipython",
    "version": 3
   },
   "file_extension": ".py",
   "mimetype": "text/x-python",
   "name": "python",
   "nbconvert_exporter": "python",
   "pygments_lexer": "ipython3",
   "version": "3.9.13"
  }
 },
 "nbformat": 4,
 "nbformat_minor": 5
}
