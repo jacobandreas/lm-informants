{
 "cells": [
  {
   "cell_type": "code",
   "execution_count": 10,
   "id": "081d5525",
   "metadata": {},
   "outputs": [],
   "source": [
    "from sympy.solvers import solve\n",
    "from sympy import Symbol, log, exp\n",
    "import sympy as sp"
   ]
  },
  {
   "cell_type": "code",
   "execution_count": 34,
   "id": "5bbf2888",
   "metadata": {},
   "outputs": [],
   "source": [
    "def get_prior(target_palloff, num_features=500):\n",
    "    x = Symbol('x')\n",
    "    eq = sp.Eq(num_features*log(1-x), log(target_palloff))\n",
    "    sol = solve(eq, x)\n",
    "    assert len(sol) == 1\n",
    "    return sol[0]"
   ]
  },
  {
   "cell_type": "code",
   "execution_count": 35,
   "id": "cbe9c5d1",
   "metadata": {},
   "outputs": [],
   "source": [
    "prior = get_prior(0.4)"
   ]
  },
  {
   "cell_type": "code",
   "execution_count": 36,
   "id": "6ca52a85",
   "metadata": {},
   "outputs": [
    {
     "name": "stdout",
     "output_type": "stream",
     "text": [
      "0.00183090331161104\n"
     ]
    }
   ],
   "source": [
    "print(prior)"
   ]
  },
  {
   "cell_type": "code",
   "execution_count": 37,
   "id": "e04ea71e",
   "metadata": {},
   "outputs": [],
   "source": [
    "def sigmoid(x):\n",
    "    return 1 / (1 + exp(-x))\n",
    "\n",
    "def derive_params(prior_palloff, target_palloff, label=True, num_features=500):\n",
    "    prior = get_prior(prior_palloff, num_features=num_features)\n",
    "    target_posterior = get_prior(target_palloff, num_features=num_features)\n",
    "        \n",
    "    log_alpha = Symbol('log_alpha')\n",
    "    # if label is True, subtract; else, add\n",
    "    if label:\n",
    "        term = prior_palloff*log_alpha\n",
    "    else:\n",
    "        term = -1*prior_palloff*log_alpha\n",
    "    \n",
    "    eq = sp.Eq(sigmoid(log(prior)-log(1-prior)+term), target_posterior)\n",
    "    sol = solve(eq, log_alpha)\n",
    "    \n",
    "#     assert len(sol) == 1, sol\n",
    "    sol = sol[0]\n",
    "    \n",
    "    lla = log(sol)\n",
    "    \n",
    "    return prior, lla"
   ]
  },
  {
   "cell_type": "code",
   "execution_count": 38,
   "id": "98b58439",
   "metadata": {},
   "outputs": [
    {
     "name": "stdout",
     "output_type": "stream",
     "text": [
      "\n",
      "prior palloff: 0.5\n",
      "prior=0.00138533389897108\tlla=-0.582269524436040\t\t(posterior_palloff=0.4)\n",
      "prior=0.00138533389897108\tlla=0.100117997493529\t\t(posterior_palloff=0.3)\n",
      "prior=0.00138533389897108\tlla=0.522731931474560\t\t(posterior_palloff=0.2)\n",
      "prior=0.00138533389897108\tlla=0.877263465295861\t\t(posterior_palloff=0.1)\n",
      "prior=0.00138533389897108\tlla=1.07568861873668\t\t(posterior_palloff=0.05)\n",
      "prior=0.00138533389897108\tlla=1.33374133882702\t\t(posterior_palloff=0.01)\n",
      "\n",
      "prior palloff: 0.3\n",
      "prior=0.00240504883318384\tlla=-0.0316148863778620\t\t(posterior_palloff=0.2)\n",
      "prior=0.00240504883318384\tlla=0.772427968403266\t\t(posterior_palloff=0.1)\n",
      "prior=0.00240504883318384\tlla=1.11334210926109\t\t(posterior_palloff=0.05)\n",
      "prior=0.00240504883318384\tlla=1.50033511229104\t\t(posterior_palloff=0.01)\n",
      "\n",
      "prior palloff: 0.1\n",
      "prior=0.00459458264847305\tlla=0.970210628375177\t\t(posterior_palloff=0.05)\n",
      "prior=0.00459458264847305\tlla=1.93939240693089\t\t(posterior_palloff=0.01)\n"
     ]
    }
   ],
   "source": [
    "# get hyperparams for positive updates (unif, eig_train_model)\n",
    "num_features = 500 # our estimate for num features in a random sequence\n",
    "for prior_palloff in [0.5, 0.3, 0.1]:\n",
    "    print(\"\")\n",
    "    print(f\"prior palloff: {prior_palloff}\")\n",
    "    for posterior_palloff in [0.4, 0.3, 0.2, 0.1, 0.05, 0.01]:\n",
    "        if posterior_palloff >= prior_palloff:\n",
    "            continue\n",
    "        \n",
    "        prior, lla = derive_params(prior_palloff, posterior_palloff, label=True, num_features=num_features)\n",
    "\n",
    "        print(f'prior={prior}\\tlla={lla}\\t\\t(posterior_palloff={posterior_palloff})')"
   ]
  },
  {
   "cell_type": "code",
   "execution_count": 39,
   "id": "d390f78b",
   "metadata": {},
   "outputs": [
    {
     "name": "stdout",
     "output_type": "stream",
     "text": [
      "avg # feats: 1797.6219567177639\n"
     ]
    }
   ],
   "source": [
    "import pandas as pd\n",
    "words_with_feats_eng = pd.read_csv('words_with_feats_english.csv')\n",
    "avg_num_feats = words_with_feats_eng['NumFeatures'].mean()\n",
    "print(f'avg # feats: {avg_num_feats}')"
   ]
  },
  {
   "cell_type": "code",
   "execution_count": 40,
   "id": "03c95d67",
   "metadata": {},
   "outputs": [
    {
     "name": "stdout",
     "output_type": "stream",
     "text": [
      "\n",
      "prior palloff: 0.5\n",
      "prior=0.000385435812071119\tlla=0.818508339363156\t\t(posterior_palloff=0.8)\n",
      "prior=0.000385435812071119\tlla=1.32655384099565\t\t(posterior_palloff=0.9)\n",
      "prior=0.000385435812071119\tlla=1.65014245712181\t\t(posterior_palloff=0.95)\n",
      "prior=0.000385435812071119\tlla=2.13625332091839\t\t(posterior_palloff=0.99)\n",
      "\n",
      "prior palloff: 0.3\n",
      "prior=0.000669393655992854\tlla=1.72623647509002\t\t(posterior_palloff=0.8)\n",
      "prior=0.000669393655992854\tlla=2.09445314096582\t\t(posterior_palloff=0.9)\n",
      "prior=0.000669393655992854\tlla=2.35332338102535\t\t(posterior_palloff=0.95)\n",
      "prior=0.000669393655992854\tlla=2.76969036320956\t\t(posterior_palloff=0.99)\n",
      "\n",
      "prior palloff: 0.1\n",
      "prior=0.00127981720494661\tlla=3.15040457368557\t\t(posterior_palloff=0.8)\n",
      "prior=0.00127981720494661\tlla=3.42914027054695\t\t(posterior_palloff=0.9)\n",
      "prior=0.00127981720494661\tlla=3.63886266492049\t\t(posterior_palloff=0.95)\n",
      "prior=0.00127981720494661\tlla=3.99541135890715\t\t(posterior_palloff=0.99)\n"
     ]
    }
   ],
   "source": [
    "# get hyperparams for positive updates (unif, eig_train_model)\n",
    "num_features = 1798 # our estimate for num features in a random sequence\n",
    "for prior_palloff in [0.5, 0.3, 0.1]:\n",
    "    print(\"\")\n",
    "    print(f\"prior palloff: {prior_palloff}\")\n",
    "    for posterior_palloff in [0.8, 0.9, 0.95, 0.99]:\n",
    "        if posterior_palloff <= prior_palloff:\n",
    "            continue\n",
    "        \n",
    "        prior, lla = derive_params(prior_palloff, posterior_palloff, label=False, num_features=num_features,)\n",
    "\n",
    "        print(f'prior={prior}\\tlla={lla}\\t\\t(posterior_palloff={posterior_palloff})')"
   ]
  }
 ],
 "metadata": {
  "kernelspec": {
   "display_name": "Python 3 (ipykernel)",
   "language": "python",
   "name": "python3"
  },
  "language_info": {
   "codemirror_mode": {
    "name": "ipython",
    "version": 3
   },
   "file_extension": ".py",
   "mimetype": "text/x-python",
   "name": "python",
   "nbconvert_exporter": "python",
   "pygments_lexer": "ipython3",
   "version": "3.9.13"
  }
 },
 "nbformat": 4,
 "nbformat_minor": 5
}
